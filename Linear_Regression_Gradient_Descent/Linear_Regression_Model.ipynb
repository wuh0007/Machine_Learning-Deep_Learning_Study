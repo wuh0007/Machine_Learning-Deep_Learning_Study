{
 "cells": [
  {
   "cell_type": "code",
   "execution_count": 221,
   "metadata": {
    "collapsed": false,
    "scrolled": true
   },
   "outputs": [
    {
     "name": "stdout",
     "output_type": "stream",
     "text": [
      "Gradient Descent:  [ 340397.96353532] [ 109848.00846026] [-5866.45408497]\n"
     ]
    },
    {
     "data": {
      "image/png": "[encoded data removed]",
      "text/plain": [
       "<matplotlib.figure.Figure at 0x2995adfb2b0>"
      ]
     },
     "metadata": {},
     "output_type": "display_data"
    }
   ],
   "source": [
    "import pandas as pd # data processing, CSV file I/O (e.g. pd.read_csv)\n",
    "import numpy as np # linear algebra\n",
    "import math\n",
    "\n",
    "# Input data files are available in the same directory as the .py file\n",
    "# Any results you write to the current directory are saved as output\n",
    "import os\n",
    "tmp = os.listdir(r\"C:\\Users\\wuh00\\ML_implementation\\Linear_Regression_Gradient_Descent\")\n",
    "[x.encode('utf-8') for x in tmp]\n",
    "\n",
    "# Load the libraries and data...\n",
    "import matplotlib.pyplot as plt\n",
    "import matplotlib.animation as animation\n",
    "\n",
    "data = pd.read_csv('Sample Data.txt',header=None, index_col=False)\n",
    "# print(data)\n",
    "\n",
    "\n",
    "# define functions\n",
    "def normalize_features(x):\n",
    "    m = len(x) #  find size of the sample = m\n",
    "    #  formula implementation x_norm = m x n, x = m x n, mean(x) and std(x), \n",
    "    #  which are 1 x n, need to be m x n, use np.tile\n",
    "    x_norm = (x - np.tile(x.mean(),[m,1])) / np.tile(x.std(),[m,1])     \n",
    "    return x_norm\n",
    "\n",
    "def compute_cost_mean_square(theta,x_norm,y):\n",
    "    [m,n] = x_norm.shape\n",
    "    h = np.dot(x_norm,theta) # h = x*theta which has size of m x 1.\n",
    "    # computation  \n",
    "    J = (1/2*m) * np.sum(np.square(h-y))    \n",
    "    return J\n",
    "\n",
    "def gradient_descent_lr(theta,x_norm,y,alpha,num_iters): \n",
    "    [m,n] = x_norm.shape    \n",
    "    past_costs = []\n",
    "    for idx in range(num_iters):       \n",
    "        theta = theta - (alpha/m) * np.dot(((np.dot(x_norm,theta))-y).transpose(),x_norm).transpose()\n",
    "        J = compute_cost_mean_square(theta,x_norm,y)   \n",
    "        past_costs.append(J)\n",
    "    return theta,past_costs\n",
    "\n",
    "# Grab the relevant data, scale the predictor variable, \n",
    "# and add a column of 1s for the gradient descent...\n",
    "y = data.iloc[:,-1]\n",
    "# y = data.iloc[:,-1].values\n",
    "y = np.array([y]).transpose()\n",
    "\n",
    "x_norm = normalize_features(data.iloc[:,0:-1])\n",
    "[m,n] = x_norm.shape # number of samples = m, number of features = n\n",
    "x_ones = np.ones((m,1))\n",
    "x_norm = np.concatenate((x_ones,x_norm),axis=1)\n",
    "\n",
    "# other parameters\n",
    "[m,n] = x_norm.shape\n",
    "theta = np.zeros((n,1))\n",
    "alpha = 0.01   #learning rate\n",
    "iterations = 1000   #No. of iterations\n",
    "\n",
    "\n",
    "#Pass the relevant variables to the function and get the new values back...\n",
    "theta,past_costs = gradient_descent_lr(theta,x_norm,y,alpha,iterations)\n",
    "# print(theta)\n",
    "# print(cost)\n",
    "\n",
    "#Print the results...\n",
    "print(\"Gradient Descent: \",theta[0], theta[1],theta[2])\n",
    "\n",
    "#Plot the cost function...\n",
    "plt.title('Cost Function J')\n",
    "plt.xlabel('No. of iterations')\n",
    "plt.ylabel('Cost')\n",
    "plt.plot(past_costs)\n",
    "plt.show()"
   ]
  },
  {
   "cell_type": "code",
   "execution_count": null,
   "metadata": {
    "collapsed": true
   },
   "outputs": [],
   "source": []
  }
 ],
 "metadata": {
  "anaconda-cloud": {},
  "kernelspec": {
   "display_name": "Python [conda env:Anaconda3]",
   "language": "python",
   "name": "conda-env-Anaconda3-py"
  },
  "language_info": {
   "codemirror_mode": {
    "name": "ipython",
    "version": 3
   },
   "file_extension": ".py",
   "mimetype": "text/x-python",
   "name": "python",
   "nbconvert_exporter": "python",
   "pygments_lexer": "ipython3",
   "version": "3.5.6"
  }
 },
 "nbformat": 4,
 "nbformat_minor": 1
}
